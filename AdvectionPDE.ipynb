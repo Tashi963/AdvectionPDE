import numpy as np
import matplotlib.pyplot as plt

print(np.pi)



delta = np.zeros(9)

for i in range(len(delta)):
    delta[i] = 2**(-i-1)