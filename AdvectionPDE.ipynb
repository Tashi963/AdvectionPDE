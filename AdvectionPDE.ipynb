{
 "cells": [
  {
   "cell_type": "markdown",
   "id": "0a76b290",
   "metadata": {},
   "source": [
    "#  Approximation of Exponential Function"
   ]
  },
  {
   "cell_type": "markdown",
   "id": "5223cc81",
   "metadata": {},
   "source": [
    "Small Essentials\n"
   ]
  },
  {
   "cell_type": "code",
   "execution_count": null,
   "id": "fd599d4d",
   "metadata": {},
   "outputs": [],
   "source": [
    "import numpy as np\n",
    "print(np.pi)\n",
    "\n",
    "import matplotlib.pyplot as plt\n",
    "\n",
    "%pinfo print\n",
    "%matplotlib inline\n",
    "\n",
    "x = np.arange(0, 5, 0.1)\n",
    "y = np.sin(x)\n",
    "plt.plot(x, y)\n",
    "\n",
    "# Escape Characters: \\n\n",
    "print('Hello\\nWorld!')\n",
    "\n",
    "# All escape characters are ignored in a raw string.\n",
    "print(r'Hello\\nWorld!')\n"
   ]
  },
  {
   "cell_type": "markdown",
   "id": "9ce43014",
   "metadata": {},
   "source": [
    "Let us consider a few ways of building a numerical sequence. Assume ∆x = f(k) , where k is an integer number defined in k = 1,2,3,...,9.\n",
    "\n",
    "1. Create a Python list in a loop and then transform it into a NumPy array\n"
   ]
  },
  {
   "cell_type": "code",
   "execution_count": 18,
   "id": "2d1271bf",
   "metadata": {},
   "outputs": [
    {
     "name": "stdout",
     "output_type": "stream",
     "text": [
      "[0.5        0.25       0.125      0.0625     0.03125    0.015625\n",
      " 0.0078125  0.00390625 0.00195312]\n"
     ]
    }
   ],
   "source": [
    "delta_list = []\n",
    "\n",
    "for k in range(1, 10):\n",
    "    delta_list.append(2**(-k))\n",
    "\n",
    "delta = np.array(delta_list)\n",
    "print(delta)\n"
   ]
  },
  {
   "cell_type": "markdown",
   "id": "7f67925a",
   "metadata": {},
   "source": [
    "2. Create Python List using list comprehension and the convert it to a NumPy array"
   ]
  },
  {
   "cell_type": "code",
   "execution_count": null,
   "id": "81b6dba3",
   "metadata": {},
   "outputs": [],
   "source": [
    "%%timeit\n",
    "delta_list = [2**(-k) for k in range(1,10)]\n",
    "\n",
    "delta = np.array(delta_list)\n"
   ]
  },
  {
   "cell_type": "markdown",
   "id": "98ee2d73",
   "metadata": {},
   "source": [
    "3. Create empty NumPy array and then fill it with values in a loop\n"
   ]
  },
  {
   "cell_type": "code",
   "execution_count": 17,
   "id": "adb8c211",
   "metadata": {},
   "outputs": [
    {
     "name": "stdout",
     "output_type": "stream",
     "text": [
      "[0.5        0.25       0.125      0.0625     0.03125    0.015625\n",
      " 0.0078125  0.00390625 0.00195312]\n"
     ]
    }
   ],
   "source": [
    "\n",
    "delta = np.zeros(9)\n",
    "\n",
    "for i in range(len(delta)):\n",
    "    delta[i] = 2**(-i-1)\n",
    "\n",
    "\n",
    "print(delta)   "
   ]
  },
  {
   "attachments": {},
   "cell_type": "markdown",
   "id": "92ddc538",
   "metadata": {},
   "source": [
    "We are set to build R3\n",
    "But before we dive into it, lets learn some essentials;"
   ]
  },
  {
   "cell_type": "code",
   "execution_count": 19,
   "id": "b611a54b",
   "metadata": {},
   "outputs": [
    {
     "name": "stdout",
     "output_type": "stream",
     "text": [
      "[2.37212707e-02 2.77541669e-03 3.35953067e-04 4.13339179e-05\n",
      " 5.12624910e-06 6.38274186e-07 7.96283230e-08 9.94381621e-09\n",
      " 1.24236998e-09]\n",
      "[1.25000000e-01 1.56250000e-02 1.95312500e-03 2.44140625e-04\n",
      " 3.05175781e-05 3.81469727e-06 4.76837158e-07 5.96046448e-08\n",
      " 7.45058060e-09]\n"
     ]
    }
   ],
   "source": [
    "delta = np.zeros(9)\n",
    "\n",
    "for i in range(len(delta)):\n",
    "    delta[i] = 2**(-i-1)\n",
    "\n",
    "R3 = np.exp(delta) - (1 + delta + delta**2 / 2)\n",
    "print(R3)\n",
    "\n",
    "slope = delta**3\n",
    "print(slope)"
   ]
  },
  {
   "cell_type": "code",
   "execution_count": null,
   "id": "a906ccba",
   "metadata": {},
   "outputs": [],
   "source": [
    "fig_0 = plt.figure(tight_layout=False)\n",
    "fig_1 = plt.figure()\n",
    "\n",
    "ax_0 = fig_0.add_axes([0., 0., 0.5, 0.5])\n",
    "ax_1 = fig_0.add_axes([0.25, 0.1, 0.5, 0.5])\n",
    "\n",
    "# Add title to figure 0.\n",
    "fig_0.suptitle('Random axes',fontsize=18)\n",
    "\n",
    "# Adding 4 subplots to the figure 1\n",
    "ax_2 = fig_1.add_subplot(221)\n",
    "ax_3 = fig_1.add_subplot(222)\n",
    "ax_4 = fig_1.add_subplot(223)\n",
    "ax_5 = fig_1.add_subplot(224)\n",
    "\n",
    "fig_1.suptitle('Subplots', fontsize=18, y=1.05)\n",
    "\n",
    "\n",
    "#Assume I want 3 subplots per row and 1 - per column.\n",
    "fig, (ax_1, ax_2, ax_3) = plt.subplots(1, 3)"
   ]
  },
  {
   "attachments": {},
   "cell_type": "markdown",
   "id": "80c579de",
   "metadata": {},
   "source": [
    "let's plot the graph for R3 now:"
   ]
  },
  {
   "cell_type": "code",
   "execution_count": null,
   "id": "41e55070",
   "metadata": {},
   "outputs": [],
   "source": [
    "fig, ax = plt.subplots()\n",
    "\n",
    "# Create a plot with log scaling. Pass x-data as the first argument,\n",
    "# y-data as the second argument, other arguments are optional.\n",
    "# '*' means that we want a dot plot with stars as markers.\n",
    "# Label argument defines the description for the data, which will be \n",
    "# displayed in the legend.\n",
    "\n",
    "# A nice feature of matplotlib is that it can display rendered LaTeX \n",
    "# equations in place of regular strings. This is possible by enclosing \n",
    "# the desired LaTeX code between $ $ as we did above.\n",
    "\n",
    "ax.loglog(delta, R3, '*', label='$R_3$')\n",
    "\n",
    "# We plot delta^3 with the same log scaling to show the R3 is of \n",
    "# order delta^3. See that you can configure the color of dots and\n",
    "# lines you plot with the color argument.\n",
    "\n",
    "# This is one way to set a color of a curve by simply passing the name\n",
    "# of a color to the function. But this way is limited to only 8 colors.\n",
    "# More info: https://matplotlib.org/3.1.1/tutorials/colors/colors.html\n",
    "\n",
    "ax.loglog(delta, slope, color = 'blue', label = r'$\\Delat^{3}$')\n",
    "\n",
    "# We set labels of x-axis and y-axis.\n",
    "ax.set_xlabel(r'$\\Delta x$')\n",
    "ax.set_ylabel('$R_3$')\n",
    "\n",
    "# We set the title, which in this case is only related to the subplot \n",
    "# referred to ax, but as we have only 1 subplot, it is then related\n",
    "# to the whole figure and can be used instead of 'fig.suptitle'.\n",
    "\n",
    "ax.set_title('Accuracy')\n",
    "\n",
    "# Enable automatic detection of elements to be shown in legend.\n",
    "ax.legend()\n",
    "\n",
    "# Save figure. Default format is png.\n",
    "# dpi defines the resolution in dots per inch.\n",
    "fig.savefig('../figures/taylorSlope', dpi=300)\n"
   ]
  }
 ],
 "metadata": {
  "kernelspec": {
   "display_name": "Python 3",
   "language": "python",
   "name": "python3"
  },
  "language_info": {
   "codemirror_mode": {
    "name": "ipython",
    "version": 3
   },
   "file_extension": ".py",
   "mimetype": "text/x-python",
   "name": "python",
   "nbconvert_exporter": "python",
   "pygments_lexer": "ipython3",
   "version": "3.11.3"
  },
  "vscode": {
   "interpreter": {
    "hash": "aee8b7b246df8f9039afb4144a1f6fd8d2ca17a180786b69acc140d282b71a49"
   }
  }
 },
 "nbformat": 4,
 "nbformat_minor": 5
}
